{
 "cells": [
  {
   "cell_type": "code",
   "execution_count": 2,
   "metadata": {},
   "outputs": [],
   "source": [
    "import pandas as pd"
   ]
  },
  {
   "cell_type": "code",
   "execution_count": 5,
   "metadata": {},
   "outputs": [
    {
     "data": {
      "text/plain": [
       "680"
      ]
     },
     "execution_count": 5,
     "metadata": {},
     "output_type": "execute_result"
    }
   ],
   "source": [
    "df = pd.read_csv('epi_r.csv')\n",
    "\n",
    "len(df.columns)"
   ]
  },
  {
   "cell_type": "code",
   "execution_count": 6,
   "metadata": {},
   "outputs": [
    {
     "data": {
      "text/plain": [
       "13635360"
      ]
     },
     "execution_count": 6,
     "metadata": {},
     "output_type": "execute_result"
    }
   ],
   "source": [
    "df.size"
   ]
  },
  {
   "cell_type": "code",
   "execution_count": 7,
   "metadata": {},
   "outputs": [
    {
     "data": {
      "text/plain": [
       "(20052, 680)"
      ]
     },
     "execution_count": 7,
     "metadata": {},
     "output_type": "execute_result"
    }
   ],
   "source": [
    "df.shape"
   ]
  },
  {
   "cell_type": "code",
   "execution_count": 10,
   "metadata": {},
   "outputs": [
    {
     "name": "stdout",
     "output_type": "stream",
     "text": [
      "#cakeweek\n",
      "#wasteless\n"
     ]
    }
   ],
   "source": [
    "for i in df.columns:\n",
    "    if '#' in i:\n",
    "        print(i)"
   ]
  },
  {
   "cell_type": "code",
   "execution_count": 22,
   "metadata": {},
   "outputs": [],
   "source": [
    "for i in df.beet:\n",
    "    if i > 1:\n",
    "        print(i)"
   ]
  },
  {
   "cell_type": "code",
   "execution_count": 21,
   "metadata": {},
   "outputs": [
    {
     "data": {
      "text/plain": [
       "<bound method DataFrame.info of                                                    title  rating  calories  \\\n",
       "0                        Lentil, Apple, and Turkey Wrap    2.500     426.0   \n",
       "1            Boudin Blanc Terrine with Red Onion Confit    4.375     403.0   \n",
       "2                          Potato and Fennel Soup Hodge    3.750     165.0   \n",
       "3                       Mahi-Mahi in Tomato Olive Sauce    5.000       NaN   \n",
       "4                              Spinach Noodle Casserole    3.125     547.0   \n",
       "5                                         The Best Blts    4.375     948.0   \n",
       "6      Ham and Spring Vegetable Salad with Shallot Vi...   4.375       NaN   \n",
       "7                                  Spicy-Sweet Kumquats    3.750       NaN   \n",
       "8                                 Korean Marinated Beef    4.375     170.0   \n",
       "9      Ham Persillade with Mustard Potato Salad and M...   3.750     602.0   \n",
       "10         Yams Braised with Cream, Rosemary and Nutmeg    3.750     256.0   \n",
       "11                                    Spicy Noodle Soup    4.375       NaN   \n",
       "12     Banana-Chocolate Chip Cake With Peanut Butter ...   4.375     766.0   \n",
       "13               Beef Tenderloin with Garlic and Brandy    4.375     174.0   \n",
       "14                                        Peach Mustard    3.125     134.0   \n",
       "15                            Raw Cream of Spinach Soup    4.375     382.0   \n",
       "16                        Sweet Buttermilk Spoon Breads    1.875     146.0   \n",
       "17                          Crisp Braised Pork Shoulder    4.375     890.0   \n",
       "18     Mozzarella-Topped Peppers with Tomatoes and Ga...   5.000     107.0   \n",
       "19     Tuna, Asparagus, and New Potato Salad with Chi...   5.000     421.0   \n",
       "20     Asian Pear and Watercress Salad with Sesame Dr...   4.375     345.0   \n",
       "21                                      \"Fried\" Chicken    3.750       NaN   \n",
       "22     Fish Fillets in Parchment with Asparagus and O...   3.750       NaN   \n",
       "23           Pancetta and Taleggio Lasagna with Treviso    3.750       NaN   \n",
       "24                              Sea Salt-Roasted Pecans    3.750     279.0   \n",
       "25                               Garlic Baguette Crumbs    0.000      95.0   \n",
       "26                             Cucumber-Basil Egg Salad    3.750     215.0   \n",
       "27                                    Dried Pear Crisps    2.500      14.0   \n",
       "28     Green Bean, Red Onion, and Roast Potato Salad ...   4.375     351.0   \n",
       "29                            Apricot-Cherry Shortcakes    4.375     311.0   \n",
       "...                                                  ...     ...       ...   \n",
       "20022                            Mussels in Cream Sauce    4.375     600.0   \n",
       "20023  Roasted and Raw Carrot Salad with Avocado and ...   3.125     293.0   \n",
       "20024                Cabbage Soup with Apples and Thyme    4.375     303.0   \n",
       "20025           Goat Cheese-Onion Naan with Mango Salsa    4.375     447.0   \n",
       "20026             Spinach with Chickpeas and Fried Eggs    5.000       NaN   \n",
       "20027  Grilled Fillet of Beef with Tomato Ginger Vina...   4.375     738.0   \n",
       "20028                         Roasted Red Pepper Butter    3.750     216.0   \n",
       "20029                       White Miso Peach/Pear/Apple    3.750     239.0   \n",
       "20030                  Lemon and Rosemary T-Bone Steaks    3.750    1168.0   \n",
       "20031                 3-Ingredient Caramel-Pear Galette    5.000     234.0   \n",
       "20032                                 4-3-2-1 Spice Rub    4.375      16.0   \n",
       "20033                                Saffron Mayonnaise    5.000     201.0   \n",
       "20034  Potato Galettes with Crab, Shrimp, and Asparagus    4.375     418.0   \n",
       "20035  Herbed Goat Cheese and Roasted-Vegetable Sandw...   3.750       NaN   \n",
       "20036                               Maple Old-Fashioned    5.000     161.0   \n",
       "20037                                           Russian    0.000     227.0   \n",
       "20038                Shellfish Chowder with Fresh Thyme    3.125     235.0   \n",
       "20039                                 Cauliflower Purée    3.125     364.0   \n",
       "20040                     Bacon-Wrapped Maple Pork Loin    4.375     899.0   \n",
       "20041                 Chicken with White Wine and Herbs    2.500     843.0   \n",
       "20042                                        Date Purée    2.500       NaN   \n",
       "20043  Crispy Salt and Pepper Chicken with Caramelize...   5.000    1086.0   \n",
       "20044                                       Orange-Tini    3.750      84.0   \n",
       "20045                                 Blueberry Compote    3.750     182.0   \n",
       "20046                       Chinese Barbecued Spareribs    3.750     998.0   \n",
       "20047                                    Parmesan Puffs    3.125      28.0   \n",
       "20048                    Artichoke and Parmesan Risotto    4.375     671.0   \n",
       "20049                             Turkey Cream Puff Pie    4.375     563.0   \n",
       "20050           Snapper on Angel Hair with Citrus Cream    4.375     631.0   \n",
       "20051        Baked Ham with Marmalade-Horseradish Glaze    4.375     560.0   \n",
       "\n",
       "       protein   fat  sodium  #cakeweek  #wasteless  22-minute meals  \\\n",
       "0         30.0   7.0   559.0        0.0         0.0              0.0   \n",
       "1         18.0  23.0  1439.0        0.0         0.0              0.0   \n",
       "2          6.0   7.0   165.0        0.0         0.0              0.0   \n",
       "3          NaN   NaN     NaN        0.0         0.0              0.0   \n",
       "4         20.0  32.0   452.0        0.0         0.0              0.0   \n",
       "5         19.0  79.0  1042.0        0.0         0.0              0.0   \n",
       "6          NaN   NaN     NaN        0.0         0.0              0.0   \n",
       "7          NaN   NaN     NaN        0.0         0.0              0.0   \n",
       "8          7.0  10.0  1272.0        0.0         0.0              0.0   \n",
       "9         23.0  41.0  1696.0        0.0         0.0              0.0   \n",
       "10         4.0   5.0    30.0        0.0         0.0              0.0   \n",
       "11         NaN   NaN     NaN        0.0         0.0              0.0   \n",
       "12        12.0  48.0   439.0        0.0         0.0              0.0   \n",
       "13        11.0  12.0   176.0        0.0         0.0              0.0   \n",
       "14         4.0   3.0  1394.0        0.0         0.0              0.0   \n",
       "15         5.0  31.0   977.0        0.0         0.0              0.0   \n",
       "16         4.0   5.0   160.0        0.0         0.0              0.0   \n",
       "17        59.0  68.0  1027.0        0.0         0.0              0.0   \n",
       "18         5.0   7.0   344.0        0.0         0.0              0.0   \n",
       "19        10.0  33.0   383.0        0.0         0.0              0.0   \n",
       "20        11.0  19.0   423.0        0.0         0.0              0.0   \n",
       "21         NaN   NaN     NaN        0.0         0.0              0.0   \n",
       "22         NaN   NaN     NaN        0.0         0.0              0.0   \n",
       "23         NaN   NaN     NaN        0.0         0.0              0.0   \n",
       "24         3.0  30.0   206.0        0.0         0.0              0.0   \n",
       "25         1.0   7.0   103.0        0.0         0.0              0.0   \n",
       "26         6.0  20.0   250.0        0.0         0.0              0.0   \n",
       "27         0.0   0.0     0.0        0.0         0.0              0.0   \n",
       "28         6.0  19.0    79.0        0.0         0.0              0.0   \n",
       "29         5.0   5.0   226.0        0.0         0.0              0.0   \n",
       "...        ...   ...     ...        ...         ...              ...   \n",
       "20022     55.0  25.0  1319.0        0.0         0.0              0.0   \n",
       "20023      4.0  27.0   647.0        0.0         0.0              0.0   \n",
       "20024     10.0  15.0   139.0        0.0         0.0              0.0   \n",
       "20025     16.0  20.0   579.0        0.0         0.0              0.0   \n",
       "20026      NaN   NaN     NaN        0.0         0.0              0.0   \n",
       "20027     42.0  62.0   344.0        0.0         0.0              0.0   \n",
       "20028      1.0  23.0     5.0        0.0         0.0              0.0   \n",
       "20029      4.0  21.0   202.0        0.0         0.0              0.0   \n",
       "20030     74.0  95.0   131.0        0.0         0.0              0.0   \n",
       "20031      2.0   7.0   213.0        0.0         0.0              0.0   \n",
       "20032      0.0   0.0  2292.0        0.0         0.0              0.0   \n",
       "20033      0.0  22.0   167.0        0.0         0.0              0.0   \n",
       "20034     16.0  30.0   641.0        0.0         0.0              0.0   \n",
       "20035      NaN   NaN     NaN        0.0         0.0              0.0   \n",
       "20036      0.0   0.0     1.0        0.0         0.0              0.0   \n",
       "20037      0.0   0.0     3.0        0.0         0.0              0.0   \n",
       "20038     17.0  10.0   422.0        0.0         0.0              0.0   \n",
       "20039     11.0  28.0   642.0        0.0         0.0              0.0   \n",
       "20040     78.0  57.0  5684.0        0.0         0.0              0.0   \n",
       "20041     59.0  59.0   351.0        0.0         0.0              0.0   \n",
       "20042      NaN   NaN     NaN        0.0         0.0              0.0   \n",
       "20043     78.0  70.0  1323.0        0.0         0.0              0.0   \n",
       "20044      0.0   0.0     5.0        0.0         0.0              0.0   \n",
       "20045      1.0   0.0     3.0        0.0         0.0              0.0   \n",
       "20046     55.0  80.0  2027.0        0.0         0.0              0.0   \n",
       "20047      2.0   2.0    64.0        0.0         0.0              0.0   \n",
       "20048     22.0  28.0   583.0        0.0         0.0              0.0   \n",
       "20049     31.0  38.0   652.0        0.0         0.0              0.0   \n",
       "20050     45.0  24.0   517.0        0.0         0.0              0.0   \n",
       "20051     73.0  10.0  3698.0        0.0         0.0              0.0   \n",
       "\n",
       "       3-ingredient recipes   ...    yellow squash  yogurt  yonkers  yuca  \\\n",
       "0                       0.0   ...              0.0     0.0      0.0   0.0   \n",
       "1                       0.0   ...              0.0     0.0      0.0   0.0   \n",
       "2                       0.0   ...              0.0     0.0      0.0   0.0   \n",
       "3                       0.0   ...              0.0     0.0      0.0   0.0   \n",
       "4                       0.0   ...              0.0     0.0      0.0   0.0   \n",
       "5                       0.0   ...              0.0     0.0      0.0   0.0   \n",
       "6                       0.0   ...              0.0     0.0      0.0   0.0   \n",
       "7                       0.0   ...              0.0     0.0      0.0   0.0   \n",
       "8                       0.0   ...              0.0     0.0      0.0   0.0   \n",
       "9                       0.0   ...              0.0     0.0      0.0   0.0   \n",
       "10                      0.0   ...              0.0     0.0      0.0   0.0   \n",
       "11                      0.0   ...              0.0     0.0      0.0   0.0   \n",
       "12                      0.0   ...              0.0     0.0      0.0   0.0   \n",
       "13                      0.0   ...              0.0     0.0      0.0   0.0   \n",
       "14                      0.0   ...              0.0     0.0      0.0   0.0   \n",
       "15                      0.0   ...              0.0     0.0      0.0   0.0   \n",
       "16                      0.0   ...              0.0     0.0      0.0   0.0   \n",
       "17                      0.0   ...              0.0     0.0      0.0   0.0   \n",
       "18                      0.0   ...              0.0     0.0      0.0   0.0   \n",
       "19                      0.0   ...              0.0     0.0      0.0   0.0   \n",
       "20                      0.0   ...              0.0     0.0      0.0   0.0   \n",
       "21                      0.0   ...              0.0     0.0      0.0   0.0   \n",
       "22                      0.0   ...              0.0     0.0      0.0   0.0   \n",
       "23                      0.0   ...              0.0     0.0      0.0   0.0   \n",
       "24                      0.0   ...              0.0     0.0      0.0   0.0   \n",
       "25                      0.0   ...              0.0     0.0      0.0   0.0   \n",
       "26                      0.0   ...              0.0     0.0      0.0   0.0   \n",
       "27                      0.0   ...              0.0     0.0      0.0   0.0   \n",
       "28                      0.0   ...              0.0     0.0      0.0   0.0   \n",
       "29                      0.0   ...              0.0     0.0      0.0   0.0   \n",
       "...                     ...   ...              ...     ...      ...   ...   \n",
       "20022                   0.0   ...              0.0     0.0      0.0   0.0   \n",
       "20023                   0.0   ...              0.0     0.0      0.0   0.0   \n",
       "20024                   0.0   ...              0.0     0.0      0.0   0.0   \n",
       "20025                   0.0   ...              0.0     1.0      0.0   0.0   \n",
       "20026                   0.0   ...              0.0     0.0      0.0   0.0   \n",
       "20027                   0.0   ...              0.0     0.0      0.0   0.0   \n",
       "20028                   0.0   ...              0.0     0.0      0.0   0.0   \n",
       "20029                   0.0   ...              0.0     0.0      0.0   0.0   \n",
       "20030                   0.0   ...              0.0     0.0      0.0   0.0   \n",
       "20031                   1.0   ...              0.0     0.0      0.0   0.0   \n",
       "20032                   0.0   ...              0.0     0.0      0.0   0.0   \n",
       "20033                   0.0   ...              0.0     0.0      0.0   0.0   \n",
       "20034                   0.0   ...              0.0     0.0      0.0   0.0   \n",
       "20035                   0.0   ...              0.0     0.0      0.0   0.0   \n",
       "20036                   0.0   ...              0.0     0.0      0.0   0.0   \n",
       "20037                   0.0   ...              0.0     0.0      0.0   0.0   \n",
       "20038                   0.0   ...              0.0     0.0      0.0   0.0   \n",
       "20039                   0.0   ...              0.0     0.0      0.0   0.0   \n",
       "20040                   0.0   ...              0.0     0.0      0.0   0.0   \n",
       "20041                   0.0   ...              0.0     0.0      0.0   0.0   \n",
       "20042                   0.0   ...              0.0     0.0      0.0   0.0   \n",
       "20043                   0.0   ...              0.0     0.0      0.0   0.0   \n",
       "20044                   0.0   ...              0.0     0.0      0.0   0.0   \n",
       "20045                   0.0   ...              0.0     0.0      0.0   0.0   \n",
       "20046                   0.0   ...              0.0     0.0      0.0   0.0   \n",
       "20047                   0.0   ...              0.0     0.0      0.0   0.0   \n",
       "20048                   0.0   ...              0.0     0.0      0.0   0.0   \n",
       "20049                   0.0   ...              0.0     0.0      0.0   0.0   \n",
       "20050                   0.0   ...              0.0     0.0      0.0   0.0   \n",
       "20051                   0.0   ...              0.0     0.0      0.0   0.0   \n",
       "\n",
       "       zucchini  cookbooks  leftovers  snack  snack week  turkey  \n",
       "0           0.0        0.0        0.0    0.0         0.0     1.0  \n",
       "1           0.0        0.0        0.0    0.0         0.0     0.0  \n",
       "2           0.0        0.0        0.0    0.0         0.0     0.0  \n",
       "3           0.0        0.0        0.0    0.0         0.0     0.0  \n",
       "4           0.0        0.0        0.0    0.0         0.0     0.0  \n",
       "5           0.0        0.0        0.0    0.0         0.0     0.0  \n",
       "6           0.0        0.0        0.0    0.0         0.0     0.0  \n",
       "7           0.0        0.0        0.0    0.0         0.0     0.0  \n",
       "8           0.0        0.0        0.0    0.0         0.0     0.0  \n",
       "9           0.0        0.0        0.0    0.0         0.0     0.0  \n",
       "10          0.0        0.0        0.0    0.0         0.0     0.0  \n",
       "11          0.0        0.0        0.0    0.0         0.0     0.0  \n",
       "12          0.0        0.0        0.0    0.0         0.0     0.0  \n",
       "13          0.0        0.0        0.0    0.0         0.0     0.0  \n",
       "14          0.0        0.0        0.0    0.0         0.0     0.0  \n",
       "15          0.0        0.0        0.0    0.0         0.0     0.0  \n",
       "16          0.0        0.0        0.0    0.0         0.0     0.0  \n",
       "17          0.0        0.0        0.0    0.0         0.0     0.0  \n",
       "18          0.0        0.0        0.0    0.0         0.0     0.0  \n",
       "19          0.0        0.0        0.0    0.0         0.0     0.0  \n",
       "20          0.0        0.0        0.0    0.0         0.0     0.0  \n",
       "21          0.0        0.0        0.0    0.0         0.0     0.0  \n",
       "22          0.0        0.0        0.0    0.0         0.0     0.0  \n",
       "23          0.0        0.0        0.0    0.0         0.0     0.0  \n",
       "24          0.0        0.0        0.0    0.0         0.0     0.0  \n",
       "25          0.0        0.0        0.0    0.0         0.0     0.0  \n",
       "26          0.0        0.0        0.0    0.0         0.0     0.0  \n",
       "27          0.0        0.0        0.0    0.0         0.0     0.0  \n",
       "28          0.0        0.0        0.0    0.0         0.0     0.0  \n",
       "29          0.0        0.0        0.0    0.0         0.0     0.0  \n",
       "...         ...        ...        ...    ...         ...     ...  \n",
       "20022       0.0        0.0        0.0    0.0         0.0     0.0  \n",
       "20023       0.0        0.0        0.0    0.0         0.0     0.0  \n",
       "20024       0.0        0.0        0.0    0.0         0.0     0.0  \n",
       "20025       0.0        0.0        0.0    0.0         0.0     0.0  \n",
       "20026       0.0        0.0        0.0    0.0         0.0     0.0  \n",
       "20027       0.0        0.0        0.0    0.0         0.0     0.0  \n",
       "20028       0.0        0.0        0.0    0.0         0.0     0.0  \n",
       "20029       0.0        0.0        0.0    0.0         0.0     0.0  \n",
       "20030       0.0        0.0        0.0    0.0         0.0     0.0  \n",
       "20031       0.0        0.0        0.0    0.0         0.0     0.0  \n",
       "20032       0.0        0.0        0.0    0.0         0.0     0.0  \n",
       "20033       0.0        0.0        0.0    0.0         0.0     0.0  \n",
       "20034       0.0        0.0        0.0    0.0         0.0     0.0  \n",
       "20035       0.0        0.0        0.0    0.0         0.0     0.0  \n",
       "20036       0.0        0.0        0.0    0.0         0.0     0.0  \n",
       "20037       0.0        0.0        0.0    0.0         0.0     0.0  \n",
       "20038       0.0        0.0        0.0    0.0         0.0     0.0  \n",
       "20039       0.0        0.0        0.0    0.0         0.0     0.0  \n",
       "20040       0.0        0.0        0.0    0.0         0.0     0.0  \n",
       "20041       0.0        0.0        0.0    0.0         0.0     0.0  \n",
       "20042       0.0        0.0        0.0    0.0         0.0     0.0  \n",
       "20043       0.0        0.0        0.0    0.0         0.0     0.0  \n",
       "20044       0.0        0.0        0.0    0.0         0.0     0.0  \n",
       "20045       0.0        0.0        0.0    0.0         0.0     0.0  \n",
       "20046       0.0        0.0        0.0    0.0         0.0     0.0  \n",
       "20047       0.0        0.0        0.0    0.0         0.0     0.0  \n",
       "20048       0.0        0.0        0.0    0.0         0.0     0.0  \n",
       "20049       0.0        0.0        0.0    0.0         0.0     1.0  \n",
       "20050       0.0        0.0        0.0    0.0         0.0     0.0  \n",
       "20051       0.0        0.0        0.0    0.0         0.0     0.0  \n",
       "\n",
       "[20052 rows x 680 columns]>"
      ]
     },
     "execution_count": 21,
     "metadata": {},
     "output_type": "execute_result"
    }
   ],
   "source": [
    "df.info"
   ]
  },
  {
   "cell_type": "code",
   "execution_count": null,
   "metadata": {
    "collapsed": true
   },
   "outputs": [],
   "source": []
  }
 ],
 "metadata": {
  "kernelspec": {
   "display_name": "Python 3",
   "language": "python",
   "name": "python3"
  },
  "language_info": {
   "codemirror_mode": {
    "name": "ipython",
    "version": 3
   },
   "file_extension": ".py",
   "mimetype": "text/x-python",
   "name": "python",
   "nbconvert_exporter": "python",
   "pygments_lexer": "ipython3",
   "version": "3.6.2"
  }
 },
 "nbformat": 4,
 "nbformat_minor": 2
}
