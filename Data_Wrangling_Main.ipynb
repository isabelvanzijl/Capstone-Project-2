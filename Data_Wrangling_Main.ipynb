{
 "cells": [
  {
   "cell_type": "code",
   "execution_count": 699,
   "metadata": {
    "collapsed": true
   },
   "outputs": [],
   "source": [
    "# import necessary packages\n",
    "import pandas as pd\n",
    "import numpy as np"
   ]
  },
  {
   "cell_type": "markdown",
   "metadata": {},
   "source": [
    "## Import & Study"
   ]
  },
  {
   "cell_type": "code",
   "execution_count": 700,
   "metadata": {
    "collapsed": true
   },
   "outputs": [],
   "source": [
    "# read in the csv as a dataframe\n",
    "df_initial = pd.read_csv('epi_r.csv')"
   ]
  },
  {
   "cell_type": "code",
   "execution_count": 701,
   "metadata": {},
   "outputs": [
    {
     "data": {
      "text/html": [
       "<div>\n",
       "<style>\n",
       "    .dataframe thead tr:only-child th {\n",
       "        text-align: right;\n",
       "    }\n",
       "\n",
       "    .dataframe thead th {\n",
       "        text-align: left;\n",
       "    }\n",
       "\n",
       "    .dataframe tbody tr th {\n",
       "        vertical-align: top;\n",
       "    }\n",
       "</style>\n",
       "<table border=\"1\" class=\"dataframe\">\n",
       "  <thead>\n",
       "    <tr style=\"text-align: right;\">\n",
       "      <th></th>\n",
       "      <th>title</th>\n",
       "      <th>rating</th>\n",
       "      <th>calories</th>\n",
       "      <th>protein</th>\n",
       "      <th>fat</th>\n",
       "      <th>sodium</th>\n",
       "      <th>#cakeweek</th>\n",
       "      <th>#wasteless</th>\n",
       "      <th>22-minute meals</th>\n",
       "      <th>3-ingredient recipes</th>\n",
       "      <th>...</th>\n",
       "      <th>yellow squash</th>\n",
       "      <th>yogurt</th>\n",
       "      <th>yonkers</th>\n",
       "      <th>yuca</th>\n",
       "      <th>zucchini</th>\n",
       "      <th>cookbooks</th>\n",
       "      <th>leftovers</th>\n",
       "      <th>snack</th>\n",
       "      <th>snack week</th>\n",
       "      <th>turkey</th>\n",
       "    </tr>\n",
       "  </thead>\n",
       "  <tbody>\n",
       "    <tr>\n",
       "      <th>0</th>\n",
       "      <td>Lentil, Apple, and Turkey Wrap</td>\n",
       "      <td>2.500</td>\n",
       "      <td>426.0</td>\n",
       "      <td>30.0</td>\n",
       "      <td>7.0</td>\n",
       "      <td>559.0</td>\n",
       "      <td>0.0</td>\n",
       "      <td>0.0</td>\n",
       "      <td>0.0</td>\n",
       "      <td>0.0</td>\n",
       "      <td>...</td>\n",
       "      <td>0.0</td>\n",
       "      <td>0.0</td>\n",
       "      <td>0.0</td>\n",
       "      <td>0.0</td>\n",
       "      <td>0.0</td>\n",
       "      <td>0.0</td>\n",
       "      <td>0.0</td>\n",
       "      <td>0.0</td>\n",
       "      <td>0.0</td>\n",
       "      <td>1.0</td>\n",
       "    </tr>\n",
       "    <tr>\n",
       "      <th>1</th>\n",
       "      <td>Boudin Blanc Terrine with Red Onion Confit</td>\n",
       "      <td>4.375</td>\n",
       "      <td>403.0</td>\n",
       "      <td>18.0</td>\n",
       "      <td>23.0</td>\n",
       "      <td>1439.0</td>\n",
       "      <td>0.0</td>\n",
       "      <td>0.0</td>\n",
       "      <td>0.0</td>\n",
       "      <td>0.0</td>\n",
       "      <td>...</td>\n",
       "      <td>0.0</td>\n",
       "      <td>0.0</td>\n",
       "      <td>0.0</td>\n",
       "      <td>0.0</td>\n",
       "      <td>0.0</td>\n",
       "      <td>0.0</td>\n",
       "      <td>0.0</td>\n",
       "      <td>0.0</td>\n",
       "      <td>0.0</td>\n",
       "      <td>0.0</td>\n",
       "    </tr>\n",
       "    <tr>\n",
       "      <th>2</th>\n",
       "      <td>Potato and Fennel Soup Hodge</td>\n",
       "      <td>3.750</td>\n",
       "      <td>165.0</td>\n",
       "      <td>6.0</td>\n",
       "      <td>7.0</td>\n",
       "      <td>165.0</td>\n",
       "      <td>0.0</td>\n",
       "      <td>0.0</td>\n",
       "      <td>0.0</td>\n",
       "      <td>0.0</td>\n",
       "      <td>...</td>\n",
       "      <td>0.0</td>\n",
       "      <td>0.0</td>\n",
       "      <td>0.0</td>\n",
       "      <td>0.0</td>\n",
       "      <td>0.0</td>\n",
       "      <td>0.0</td>\n",
       "      <td>0.0</td>\n",
       "      <td>0.0</td>\n",
       "      <td>0.0</td>\n",
       "      <td>0.0</td>\n",
       "    </tr>\n",
       "    <tr>\n",
       "      <th>3</th>\n",
       "      <td>Mahi-Mahi in Tomato Olive Sauce</td>\n",
       "      <td>5.000</td>\n",
       "      <td>NaN</td>\n",
       "      <td>NaN</td>\n",
       "      <td>NaN</td>\n",
       "      <td>NaN</td>\n",
       "      <td>0.0</td>\n",
       "      <td>0.0</td>\n",
       "      <td>0.0</td>\n",
       "      <td>0.0</td>\n",
       "      <td>...</td>\n",
       "      <td>0.0</td>\n",
       "      <td>0.0</td>\n",
       "      <td>0.0</td>\n",
       "      <td>0.0</td>\n",
       "      <td>0.0</td>\n",
       "      <td>0.0</td>\n",
       "      <td>0.0</td>\n",
       "      <td>0.0</td>\n",
       "      <td>0.0</td>\n",
       "      <td>0.0</td>\n",
       "    </tr>\n",
       "    <tr>\n",
       "      <th>4</th>\n",
       "      <td>Spinach Noodle Casserole</td>\n",
       "      <td>3.125</td>\n",
       "      <td>547.0</td>\n",
       "      <td>20.0</td>\n",
       "      <td>32.0</td>\n",
       "      <td>452.0</td>\n",
       "      <td>0.0</td>\n",
       "      <td>0.0</td>\n",
       "      <td>0.0</td>\n",
       "      <td>0.0</td>\n",
       "      <td>...</td>\n",
       "      <td>0.0</td>\n",
       "      <td>0.0</td>\n",
       "      <td>0.0</td>\n",
       "      <td>0.0</td>\n",
       "      <td>0.0</td>\n",
       "      <td>0.0</td>\n",
       "      <td>0.0</td>\n",
       "      <td>0.0</td>\n",
       "      <td>0.0</td>\n",
       "      <td>0.0</td>\n",
       "    </tr>\n",
       "  </tbody>\n",
       "</table>\n",
       "<p>5 rows × 680 columns</p>\n",
       "</div>"
      ],
      "text/plain": [
       "                                         title  rating  calories  protein  \\\n",
       "0              Lentil, Apple, and Turkey Wrap    2.500     426.0     30.0   \n",
       "1  Boudin Blanc Terrine with Red Onion Confit    4.375     403.0     18.0   \n",
       "2                Potato and Fennel Soup Hodge    3.750     165.0      6.0   \n",
       "3             Mahi-Mahi in Tomato Olive Sauce    5.000       NaN      NaN   \n",
       "4                    Spinach Noodle Casserole    3.125     547.0     20.0   \n",
       "\n",
       "    fat  sodium  #cakeweek  #wasteless  22-minute meals  3-ingredient recipes  \\\n",
       "0   7.0   559.0        0.0         0.0              0.0                   0.0   \n",
       "1  23.0  1439.0        0.0         0.0              0.0                   0.0   \n",
       "2   7.0   165.0        0.0         0.0              0.0                   0.0   \n",
       "3   NaN     NaN        0.0         0.0              0.0                   0.0   \n",
       "4  32.0   452.0        0.0         0.0              0.0                   0.0   \n",
       "\n",
       "    ...    yellow squash  yogurt  yonkers  yuca  zucchini  cookbooks  \\\n",
       "0   ...              0.0     0.0      0.0   0.0       0.0        0.0   \n",
       "1   ...              0.0     0.0      0.0   0.0       0.0        0.0   \n",
       "2   ...              0.0     0.0      0.0   0.0       0.0        0.0   \n",
       "3   ...              0.0     0.0      0.0   0.0       0.0        0.0   \n",
       "4   ...              0.0     0.0      0.0   0.0       0.0        0.0   \n",
       "\n",
       "   leftovers  snack  snack week  turkey  \n",
       "0        0.0    0.0         0.0     1.0  \n",
       "1        0.0    0.0         0.0     0.0  \n",
       "2        0.0    0.0         0.0     0.0  \n",
       "3        0.0    0.0         0.0     0.0  \n",
       "4        0.0    0.0         0.0     0.0  \n",
       "\n",
       "[5 rows x 680 columns]"
      ]
     },
     "execution_count": 701,
     "metadata": {},
     "output_type": "execute_result"
    }
   ],
   "source": [
    "# print head of dataframe\n",
    "df_initial.head()"
   ]
  },
  {
   "cell_type": "code",
   "execution_count": 702,
   "metadata": {},
   "outputs": [
    {
     "name": "stdout",
     "output_type": "stream",
     "text": [
      "Shape of dataframe: (20052, 680)\n"
     ]
    }
   ],
   "source": [
    "# print shape\n",
    "print('Shape of dataframe:', df_initial.shape)"
   ]
  },
  {
   "cell_type": "code",
   "execution_count": 703,
   "metadata": {},
   "outputs": [
    {
     "name": "stdout",
     "output_type": "stream",
     "text": [
      "<class 'pandas.core.frame.DataFrame'>\n",
      "RangeIndex: 20052 entries, 0 to 20051\n",
      "Columns: 680 entries, title to turkey\n",
      "dtypes: float64(679), object(1)\n",
      "memory usage: 104.0+ MB\n"
     ]
    }
   ],
   "source": [
    "# use .info() to study contents\n",
    "df_initial.info()"
   ]
  },
  {
   "cell_type": "code",
   "execution_count": 704,
   "metadata": {
    "collapsed": true
   },
   "outputs": [],
   "source": [
    "# all rows and columns are populated, np.NaN where appropriate"
   ]
  },
  {
   "cell_type": "code",
   "execution_count": 705,
   "metadata": {},
   "outputs": [
    {
     "data": {
      "text/plain": [
       "Index(['Title', 'Rating', 'Calories', 'Protein', 'Fat', 'Sodium', '#Cakeweek',\n",
       "       '#Wasteless', '22-Minute Meals', '3-Ingredient Recipes',\n",
       "       ...\n",
       "       'Yellow Squash', 'Yogurt', 'Yonkers', 'Yuca', 'Zucchini', 'Cookbooks',\n",
       "       'Leftovers', 'Snack', 'Snack Week', 'Turkey'],\n",
       "      dtype='object', length=680)"
      ]
     },
     "execution_count": 705,
     "metadata": {},
     "output_type": "execute_result"
    }
   ],
   "source": [
    "# for formatting purposes and matching columns with the categories we extract next,\n",
    "#    convert titles to title format\n",
    "\n",
    "# initiate new list to contain column headers in title format\n",
    "new_cols = []\n",
    "for col in df_initial.columns:\n",
    "    new_cols.append(col.title())\n",
    "\n",
    "# change the column names\n",
    "df_initial.columns = new_cols\n",
    "df_initial.columns"
   ]
  },
  {
   "cell_type": "code",
   "execution_count": 706,
   "metadata": {},
   "outputs": [
    {
     "data": {
      "text/html": [
       "<div>\n",
       "<style>\n",
       "    .dataframe thead tr:only-child th {\n",
       "        text-align: right;\n",
       "    }\n",
       "\n",
       "    .dataframe thead th {\n",
       "        text-align: left;\n",
       "    }\n",
       "\n",
       "    .dataframe tbody tr th {\n",
       "        vertical-align: top;\n",
       "    }\n",
       "</style>\n",
       "<table border=\"1\" class=\"dataframe\">\n",
       "  <thead>\n",
       "    <tr style=\"text-align: right;\">\n",
       "      <th></th>\n",
       "      <th>calories</th>\n",
       "      <th>categories</th>\n",
       "      <th>date</th>\n",
       "      <th>desc</th>\n",
       "      <th>directions</th>\n",
       "      <th>fat</th>\n",
       "      <th>ingredients</th>\n",
       "      <th>protein</th>\n",
       "      <th>rating</th>\n",
       "      <th>sodium</th>\n",
       "      <th>title</th>\n",
       "    </tr>\n",
       "  </thead>\n",
       "  <tbody>\n",
       "    <tr>\n",
       "      <th>0</th>\n",
       "      <td>426.0</td>\n",
       "      <td>[Sandwich, Bean, Fruit, Tomato, turkey, Vegeta...</td>\n",
       "      <td>2006-09-01 04:00:00</td>\n",
       "      <td>None</td>\n",
       "      <td>[1. Place the stock, lentils, celery, carrot, ...</td>\n",
       "      <td>7.0</td>\n",
       "      <td>[4 cups low-sodium vegetable or chicken stock,...</td>\n",
       "      <td>30.0</td>\n",
       "      <td>2.500</td>\n",
       "      <td>559.0</td>\n",
       "      <td>Lentil, Apple, and Turkey Wrap</td>\n",
       "    </tr>\n",
       "    <tr>\n",
       "      <th>1</th>\n",
       "      <td>403.0</td>\n",
       "      <td>[Food Processor, Onion, Pork, Bake, Bastille D...</td>\n",
       "      <td>2004-08-20 04:00:00</td>\n",
       "      <td>This uses the same ingredients found in boudin...</td>\n",
       "      <td>[Combine first 9 ingredients in heavy medium s...</td>\n",
       "      <td>23.0</td>\n",
       "      <td>[1 1/2 cups whipping cream, 2 medium onions, c...</td>\n",
       "      <td>18.0</td>\n",
       "      <td>4.375</td>\n",
       "      <td>1439.0</td>\n",
       "      <td>Boudin Blanc Terrine with Red Onion Confit</td>\n",
       "    </tr>\n",
       "    <tr>\n",
       "      <th>2</th>\n",
       "      <td>165.0</td>\n",
       "      <td>[Soup/Stew, Dairy, Potato, Vegetable, Fennel, ...</td>\n",
       "      <td>2004-08-20 04:00:00</td>\n",
       "      <td>None</td>\n",
       "      <td>[In a large heavy saucepan cook diced fennel a...</td>\n",
       "      <td>7.0</td>\n",
       "      <td>[1 fennel bulb (sometimes called anise), stalk...</td>\n",
       "      <td>6.0</td>\n",
       "      <td>3.750</td>\n",
       "      <td>165.0</td>\n",
       "      <td>Potato and Fennel Soup Hodge</td>\n",
       "    </tr>\n",
       "    <tr>\n",
       "      <th>3</th>\n",
       "      <td>NaN</td>\n",
       "      <td>[Fish, Olive, Tomato, Sauté, Low Fat, Low Cal,...</td>\n",
       "      <td>2009-03-27 04:00:00</td>\n",
       "      <td>The Sicilian-style tomato sauce has tons of Me...</td>\n",
       "      <td>[Heat oil in heavy large skillet over medium-h...</td>\n",
       "      <td>NaN</td>\n",
       "      <td>[2 tablespoons extra-virgin olive oil, 1 cup c...</td>\n",
       "      <td>NaN</td>\n",
       "      <td>5.000</td>\n",
       "      <td>NaN</td>\n",
       "      <td>Mahi-Mahi in Tomato Olive Sauce</td>\n",
       "    </tr>\n",
       "    <tr>\n",
       "      <th>4</th>\n",
       "      <td>547.0</td>\n",
       "      <td>[Cheese, Dairy, Pasta, Vegetable, Side, Bake, ...</td>\n",
       "      <td>2004-08-20 04:00:00</td>\n",
       "      <td>None</td>\n",
       "      <td>[Preheat oven to 350°F. Lightly grease 8x8x2-i...</td>\n",
       "      <td>32.0</td>\n",
       "      <td>[1 12-ounce package frozen spinach soufflé, th...</td>\n",
       "      <td>20.0</td>\n",
       "      <td>3.125</td>\n",
       "      <td>452.0</td>\n",
       "      <td>Spinach Noodle Casserole</td>\n",
       "    </tr>\n",
       "  </tbody>\n",
       "</table>\n",
       "</div>"
      ],
      "text/plain": [
       "   calories                                         categories  \\\n",
       "0     426.0  [Sandwich, Bean, Fruit, Tomato, turkey, Vegeta...   \n",
       "1     403.0  [Food Processor, Onion, Pork, Bake, Bastille D...   \n",
       "2     165.0  [Soup/Stew, Dairy, Potato, Vegetable, Fennel, ...   \n",
       "3       NaN  [Fish, Olive, Tomato, Sauté, Low Fat, Low Cal,...   \n",
       "4     547.0  [Cheese, Dairy, Pasta, Vegetable, Side, Bake, ...   \n",
       "\n",
       "                 date                                               desc  \\\n",
       "0 2006-09-01 04:00:00                                               None   \n",
       "1 2004-08-20 04:00:00  This uses the same ingredients found in boudin...   \n",
       "2 2004-08-20 04:00:00                                               None   \n",
       "3 2009-03-27 04:00:00  The Sicilian-style tomato sauce has tons of Me...   \n",
       "4 2004-08-20 04:00:00                                               None   \n",
       "\n",
       "                                          directions   fat  \\\n",
       "0  [1. Place the stock, lentils, celery, carrot, ...   7.0   \n",
       "1  [Combine first 9 ingredients in heavy medium s...  23.0   \n",
       "2  [In a large heavy saucepan cook diced fennel a...   7.0   \n",
       "3  [Heat oil in heavy large skillet over medium-h...   NaN   \n",
       "4  [Preheat oven to 350°F. Lightly grease 8x8x2-i...  32.0   \n",
       "\n",
       "                                         ingredients  protein  rating  sodium  \\\n",
       "0  [4 cups low-sodium vegetable or chicken stock,...     30.0   2.500   559.0   \n",
       "1  [1 1/2 cups whipping cream, 2 medium onions, c...     18.0   4.375  1439.0   \n",
       "2  [1 fennel bulb (sometimes called anise), stalk...      6.0   3.750   165.0   \n",
       "3  [2 tablespoons extra-virgin olive oil, 1 cup c...      NaN   5.000     NaN   \n",
       "4  [1 12-ounce package frozen spinach soufflé, th...     20.0   3.125   452.0   \n",
       "\n",
       "                                         title  \n",
       "0              Lentil, Apple, and Turkey Wrap   \n",
       "1  Boudin Blanc Terrine with Red Onion Confit   \n",
       "2                Potato and Fennel Soup Hodge   \n",
       "3             Mahi-Mahi in Tomato Olive Sauce   \n",
       "4                    Spinach Noodle Casserole   "
      ]
     },
     "execution_count": 706,
     "metadata": {},
     "output_type": "execute_result"
    }
   ],
   "source": [
    "# read json file in as a dataframe\n",
    "rec_df = pd.read_json('full_format_recipes.json', orient='columns')\n",
    "rec_df.head()"
   ]
  },
  {
   "cell_type": "code",
   "execution_count": 722,
   "metadata": {},
   "outputs": [
    {
     "name": "stdout",
     "output_type": "stream",
     "text": [
      "<class 'pandas.core.frame.DataFrame'>\n",
      "Int64Index: 20130 entries, 0 to 20129\n",
      "Data columns (total 12 columns):\n",
      "calories       15976 non-null float64\n",
      "categories     20111 non-null object\n",
      "date           20111 non-null datetime64[ns]\n",
      "desc           13495 non-null object\n",
      "directions     20111 non-null object\n",
      "fat            15908 non-null float64\n",
      "ingredients    20111 non-null object\n",
      "protein        15929 non-null float64\n",
      "rating         20100 non-null float64\n",
      "sodium         15974 non-null float64\n",
      "title          20111 non-null object\n",
      "Recipe Id      20130 non-null object\n",
      "dtypes: datetime64[ns](1), float64(5), object(6)\n",
      "memory usage: 2.6+ MB\n"
     ]
    }
   ],
   "source": [
    "# convert 'date' to a datetime object\n",
    "pd.to_datetime(rec_df['date'])\n",
    "rec_df.info()"
   ]
  },
  {
   "cell_type": "markdown",
   "metadata": {},
   "source": [
    "## Add Custom Columns\n",
    "\n",
    "Though not necessarily relevant to the clustering aspect of this project, other data could be useful for the exploratory data analysis and inferential statistics part of this project"
   ]
  },
  {
   "cell_type": "code",
   "execution_count": 708,
   "metadata": {
    "collapsed": true
   },
   "outputs": [],
   "source": [
    "# Rating Group\n",
    "\n",
    "# ratings range between 1 to 5, and recipes with no rating have a rating of zero\n",
    "# put recipes in groupings of 1-2, 2-3, 3-4, 4-5, and null for no rating\n",
    "\n",
    "# create set_rating_group function\n",
    "def set_rating_group(rating):\n",
    "    if rating >= 4:\n",
    "        return '4-5'\n",
    "    elif rating >= 3:\n",
    "        return '3-4'\n",
    "    elif rating >= 2:\n",
    "        return '2-3'\n",
    "    elif rating >= 1:\n",
    "        return '1-2'\n",
    "    else:\n",
    "        return 'no rating'\n",
    "    \n",
    "# apply make_humid function\n",
    "df_initial['Rating Group'] = df_initial['Rating'].apply(set_rating_group)\n",
    "#df_initial[['Rating','Rating Group']]"
   ]
  },
  {
   "cell_type": "code",
   "execution_count": 709,
   "metadata": {},
   "outputs": [
    {
     "data": {
      "text/html": [
       "<div>\n",
       "<style>\n",
       "    .dataframe thead tr:only-child th {\n",
       "        text-align: right;\n",
       "    }\n",
       "\n",
       "    .dataframe thead th {\n",
       "        text-align: left;\n",
       "    }\n",
       "\n",
       "    .dataframe tbody tr th {\n",
       "        vertical-align: top;\n",
       "    }\n",
       "</style>\n",
       "<table border=\"1\" class=\"dataframe\">\n",
       "  <thead>\n",
       "    <tr style=\"text-align: right;\">\n",
       "      <th></th>\n",
       "      <th>Title</th>\n",
       "      <th>Rating</th>\n",
       "      <th>Calories</th>\n",
       "      <th>Protein</th>\n",
       "      <th>Fat</th>\n",
       "      <th>Sodium</th>\n",
       "      <th>#Cakeweek</th>\n",
       "      <th>#Wasteless</th>\n",
       "      <th>22-Minute Meals</th>\n",
       "      <th>3-Ingredient Recipes</th>\n",
       "      <th>...</th>\n",
       "      <th>Yuca</th>\n",
       "      <th>Zucchini</th>\n",
       "      <th>Cookbooks</th>\n",
       "      <th>Leftovers</th>\n",
       "      <th>Snack</th>\n",
       "      <th>Snack Week</th>\n",
       "      <th>Turkey</th>\n",
       "      <th>Rating Group</th>\n",
       "      <th>Recipe Id</th>\n",
       "      <th>Date Time</th>\n",
       "    </tr>\n",
       "  </thead>\n",
       "  <tbody>\n",
       "    <tr>\n",
       "      <th>0</th>\n",
       "      <td>Lentil, Apple, and Turkey Wrap</td>\n",
       "      <td>2.500</td>\n",
       "      <td>426.0</td>\n",
       "      <td>30.0</td>\n",
       "      <td>7.0</td>\n",
       "      <td>559.0</td>\n",
       "      <td>0.0</td>\n",
       "      <td>0.0</td>\n",
       "      <td>0.0</td>\n",
       "      <td>0.0</td>\n",
       "      <td>...</td>\n",
       "      <td>0.0</td>\n",
       "      <td>0.0</td>\n",
       "      <td>0.0</td>\n",
       "      <td>0.0</td>\n",
       "      <td>0.0</td>\n",
       "      <td>0.0</td>\n",
       "      <td>1.0</td>\n",
       "      <td>2-3</td>\n",
       "      <td>Lentil, Apple, and Turkey Wrap 2.5426.0</td>\n",
       "      <td>2006-09-01 04:00:00</td>\n",
       "    </tr>\n",
       "    <tr>\n",
       "      <th>1</th>\n",
       "      <td>Boudin Blanc Terrine with Red Onion Confit</td>\n",
       "      <td>4.375</td>\n",
       "      <td>403.0</td>\n",
       "      <td>18.0</td>\n",
       "      <td>23.0</td>\n",
       "      <td>1439.0</td>\n",
       "      <td>0.0</td>\n",
       "      <td>0.0</td>\n",
       "      <td>0.0</td>\n",
       "      <td>0.0</td>\n",
       "      <td>...</td>\n",
       "      <td>0.0</td>\n",
       "      <td>0.0</td>\n",
       "      <td>0.0</td>\n",
       "      <td>0.0</td>\n",
       "      <td>0.0</td>\n",
       "      <td>0.0</td>\n",
       "      <td>0.0</td>\n",
       "      <td>4-5</td>\n",
       "      <td>Boudin Blanc Terrine with Red Onion Confit 4.3...</td>\n",
       "      <td>2004-08-20 04:00:00</td>\n",
       "    </tr>\n",
       "    <tr>\n",
       "      <th>2</th>\n",
       "      <td>Potato and Fennel Soup Hodge</td>\n",
       "      <td>3.750</td>\n",
       "      <td>165.0</td>\n",
       "      <td>6.0</td>\n",
       "      <td>7.0</td>\n",
       "      <td>165.0</td>\n",
       "      <td>0.0</td>\n",
       "      <td>0.0</td>\n",
       "      <td>0.0</td>\n",
       "      <td>0.0</td>\n",
       "      <td>...</td>\n",
       "      <td>0.0</td>\n",
       "      <td>0.0</td>\n",
       "      <td>0.0</td>\n",
       "      <td>0.0</td>\n",
       "      <td>0.0</td>\n",
       "      <td>0.0</td>\n",
       "      <td>0.0</td>\n",
       "      <td>3-4</td>\n",
       "      <td>Potato and Fennel Soup Hodge 3.75165.0</td>\n",
       "      <td>2004-08-20 04:00:00</td>\n",
       "    </tr>\n",
       "    <tr>\n",
       "      <th>3</th>\n",
       "      <td>Mahi-Mahi in Tomato Olive Sauce</td>\n",
       "      <td>5.000</td>\n",
       "      <td>NaN</td>\n",
       "      <td>NaN</td>\n",
       "      <td>NaN</td>\n",
       "      <td>NaN</td>\n",
       "      <td>0.0</td>\n",
       "      <td>0.0</td>\n",
       "      <td>0.0</td>\n",
       "      <td>0.0</td>\n",
       "      <td>...</td>\n",
       "      <td>0.0</td>\n",
       "      <td>0.0</td>\n",
       "      <td>0.0</td>\n",
       "      <td>0.0</td>\n",
       "      <td>0.0</td>\n",
       "      <td>0.0</td>\n",
       "      <td>0.0</td>\n",
       "      <td>4-5</td>\n",
       "      <td>Mahi-Mahi in Tomato Olive Sauce 5.0nan</td>\n",
       "      <td>2009-03-27 04:00:00</td>\n",
       "    </tr>\n",
       "    <tr>\n",
       "      <th>4</th>\n",
       "      <td>Spinach Noodle Casserole</td>\n",
       "      <td>3.125</td>\n",
       "      <td>547.0</td>\n",
       "      <td>20.0</td>\n",
       "      <td>32.0</td>\n",
       "      <td>452.0</td>\n",
       "      <td>0.0</td>\n",
       "      <td>0.0</td>\n",
       "      <td>0.0</td>\n",
       "      <td>0.0</td>\n",
       "      <td>...</td>\n",
       "      <td>0.0</td>\n",
       "      <td>0.0</td>\n",
       "      <td>0.0</td>\n",
       "      <td>0.0</td>\n",
       "      <td>0.0</td>\n",
       "      <td>0.0</td>\n",
       "      <td>0.0</td>\n",
       "      <td>3-4</td>\n",
       "      <td>Spinach Noodle Casserole 3.125547.0</td>\n",
       "      <td>2004-08-20 04:00:00</td>\n",
       "    </tr>\n",
       "  </tbody>\n",
       "</table>\n",
       "<p>5 rows × 683 columns</p>\n",
       "</div>"
      ],
      "text/plain": [
       "                                         Title  Rating  Calories  Protein  \\\n",
       "0              Lentil, Apple, and Turkey Wrap    2.500     426.0     30.0   \n",
       "1  Boudin Blanc Terrine with Red Onion Confit    4.375     403.0     18.0   \n",
       "2                Potato and Fennel Soup Hodge    3.750     165.0      6.0   \n",
       "3             Mahi-Mahi in Tomato Olive Sauce    5.000       NaN      NaN   \n",
       "4                    Spinach Noodle Casserole    3.125     547.0     20.0   \n",
       "\n",
       "    Fat  Sodium  #Cakeweek  #Wasteless  22-Minute Meals  3-Ingredient Recipes  \\\n",
       "0   7.0   559.0        0.0         0.0              0.0                   0.0   \n",
       "1  23.0  1439.0        0.0         0.0              0.0                   0.0   \n",
       "2   7.0   165.0        0.0         0.0              0.0                   0.0   \n",
       "3   NaN     NaN        0.0         0.0              0.0                   0.0   \n",
       "4  32.0   452.0        0.0         0.0              0.0                   0.0   \n",
       "\n",
       "          ...          Yuca  Zucchini  Cookbooks  Leftovers  Snack  \\\n",
       "0         ...           0.0       0.0        0.0        0.0    0.0   \n",
       "1         ...           0.0       0.0        0.0        0.0    0.0   \n",
       "2         ...           0.0       0.0        0.0        0.0    0.0   \n",
       "3         ...           0.0       0.0        0.0        0.0    0.0   \n",
       "4         ...           0.0       0.0        0.0        0.0    0.0   \n",
       "\n",
       "   Snack Week  Turkey  Rating Group  \\\n",
       "0         0.0     1.0           2-3   \n",
       "1         0.0     0.0           4-5   \n",
       "2         0.0     0.0           3-4   \n",
       "3         0.0     0.0           4-5   \n",
       "4         0.0     0.0           3-4   \n",
       "\n",
       "                                           Recipe Id           Date Time  \n",
       "0            Lentil, Apple, and Turkey Wrap 2.5426.0 2006-09-01 04:00:00  \n",
       "1  Boudin Blanc Terrine with Red Onion Confit 4.3... 2004-08-20 04:00:00  \n",
       "2             Potato and Fennel Soup Hodge 3.75165.0 2004-08-20 04:00:00  \n",
       "3             Mahi-Mahi in Tomato Olive Sauce 5.0nan 2009-03-27 04:00:00  \n",
       "4                Spinach Noodle Casserole 3.125547.0 2004-08-20 04:00:00  \n",
       "\n",
       "[5 rows x 683 columns]"
      ]
     },
     "execution_count": 709,
     "metadata": {},
     "output_type": "execute_result"
    }
   ],
   "source": [
    "# Recipe Identifier\n",
    "\n",
    "# We want to import the date for each recipe from the json file\n",
    "# there are fewer rows in our csv file than in our json and there are recipes that\n",
    "#    have the same title, so we need a unique identifier for each recipe\n",
    "\n",
    "# create unique identifier in each dataframe\n",
    "df_initial['Recipe Id'] = df_initial['Title'].map(str) + df_initial['Rating'].map(str) + df_initial['Calories'].map(str)\n",
    "rec_df['Recipe Id'] = rec_df['title'].map(str) + rec_df['rating'].map(str) + rec_df['calories'].map(str)\n",
    "#df_id_date = pd.DataFrame(rec_df[['Recipe Id', 'date']])\n",
    "\n",
    "# pull the date column into df_initial based on the Recipe Id\n",
    "df_initial = df_initial.merge(rec_df[['Recipe Id', 'date']], on='Recipe Id', \n",
    "                              how='left', left_index=False)\n",
    "df_initial.rename(columns ={'date': 'Date Time'}, inplace =True)\n",
    "df_initial.head()"
   ]
  },
  {
   "cell_type": "markdown",
   "metadata": {},
   "source": [
    "## Narrow Categories\n",
    "\n",
    "We need to figure out which of the columns in the csv file are 'categories' and which are 'ingredients'. By extracting what values are listed in categories from the JSON file and comparing them to the strings in the 'ingredients' column of the json, we can get a better list of categories for our analysis."
   ]
  },
  {
   "cell_type": "code",
   "execution_count": 710,
   "metadata": {},
   "outputs": [
    {
     "name": "stdout",
     "output_type": "stream",
     "text": [
      "First 40 initial categories: ['#CAKEWEEK', '#WasteLess', '22-Minute Meals', '3-Ingredient Recipes', '30 Days of Groceries', 'Advance Prep Required', 'Alabama', 'Alaska', 'Alcoholic', 'Almond', 'Amaretto', 'Anchovy', 'Anise', 'Anniversary', 'Anthony Bourdain', 'Aperitif', 'Appetizer', 'Apple', 'Apple Juice', 'Apricot', 'Arizona', 'Artichoke', 'Arugula', 'Asian Pear', 'Asparagus', 'Aspen', 'Atlanta', 'Australia', 'Avocado', 'Back to School', 'Backyard BBQ', 'Bacon', 'Bake', 'Banana', 'Barley', 'Basil', 'Bass', 'Bastille Day', 'Bean', 'Beef']\n",
      "\n",
      "Number of initial categories: 674\n"
     ]
    }
   ],
   "source": [
    "# extract all categories by appending them to the empty list categories_initial\n",
    "categories_initial = []\n",
    "for l in rec_df.categories:\n",
    "    #print(str(type(l)) +\" \" + str(l))\n",
    "    if type(l) == list:\n",
    "        for cat in l:\n",
    "            if cat not in categories_initial:\n",
    "                categories_initial.append(cat)\n",
    "                \n",
    "# format categories\n",
    "categories_initial = [cat.title() if cat.lower() == cat else cat for cat in categories_initial]                \n",
    "\n",
    "# sort categories list and check it\n",
    "categories_initial = sorted(categories_initial)\n",
    "print('First 40 initial categories:', categories_initial[:40])\n",
    "print()\n",
    "print('Number of initial categories:', len(categories_initial))"
   ]
  },
  {
   "cell_type": "code",
   "execution_count": 711,
   "metadata": {},
   "outputs": [
    {
     "name": "stdout",
     "output_type": "stream",
     "text": [
      "Number of ingredients that are categories: 398\n"
     ]
    }
   ],
   "source": [
    "# there are too many categories, mostly due to the fact that ingredients are included as categories\n",
    "# identify which categories are ingredients by searching for the category substring in the \n",
    "#    ingredients list for that recipe\n",
    "\n",
    "# extract all categories that are ingredients by appending them to the empty list ingredients_initial\n",
    "ingredients_initial = []\n",
    "\n",
    "for i, row in rec_df.iterrows():\n",
    "    #print(str(type(l)) +\" \" + str(l))\n",
    "    temp_cats = row.categories\n",
    "    temp_ingr = row.ingredients\n",
    "    if type(temp_cats) == list and type(temp_ingr) == list:\n",
    "        for cat in temp_cats:\n",
    "            cat = cat.lower()\n",
    "            cat_title = cat.title()\n",
    "            for ingr in temp_ingr:\n",
    "                ingr = ingr.lower()\n",
    "                if ingr.find(cat) != -1 and cat_title not in ingredients_initial:\n",
    "                    ingredients_initial.append(cat_title)\n",
    "\n",
    "ingredients_initial = sorted(ingredients_initial)\n",
    "# print('Ingredients that are categories:', ingredients_initial)\n",
    "print('Number of ingredients that are categories:', len(ingredients_initial))"
   ]
  },
  {
   "cell_type": "code",
   "execution_count": 712,
   "metadata": {},
   "outputs": [
    {
     "name": "stdout",
     "output_type": "stream",
     "text": [
      "Number of ingredients that are categories: 339\n"
     ]
    }
   ],
   "source": [
    "# some ingredients are indeed categories and not ingredients\n",
    "# the initial ingredients list is easy to scan though, so remove the few categories that exist in it\n",
    "# note: full food items (like Salad and Sandwich) are not ingredients from my perspective\n",
    "\n",
    "not_ingredients = ['Bake', 'Blender', 'Boil', 'Bon Appétit', 'Braise', 'Breakfast', 'Broil', \n",
    "                   'California', 'Cocktail', 'Deep-Fry', 'Dessert', 'Dinner', 'Drink', 'Easter', \n",
    "                   'Fall', 'Food Processor', 'Fry', 'Game', 'Gourmet', 'Grill', 'Healthy', \n",
    "                   'Ice Cream Machine', 'Juicer', 'Kosher', 'Mandoline', 'Marinate', 'Microwave', \n",
    "                   'Mixer', 'Mortar And Pestle', 'New York', 'Passover', 'Pasta Maker', 'Pastry', \n",
    "                   'Pie', 'Pizza', 'Poach', 'Pressure Cooker', 'Ramekin', 'Raw', 'Salad', \n",
    "                   'Sandwich', 'Sauté', 'Seafood', 'Side', 'Simmer', 'Skewer', 'Slow Cooker', \n",
    "                   'Smoker', 'Snack', 'Spring', 'Steam', 'Stew', 'Stir-Fry', 'Summer', 'Tart', \n",
    "                   'Thanksgiving', 'Vegan', 'Vegetarian', 'Winter']\n",
    "\n",
    "# remove items from not_ingredients from the ingredients_initial list\n",
    "ingredients = [ingr for ingr in ingredients_initial if ingr not in not_ingredients]\n",
    "\n",
    "# check lengtih of ingredients list to make sure it's less than 398\n",
    "print('Number of ingredients that are categories:', len(ingredients))"
   ]
  },
  {
   "cell_type": "code",
   "execution_count": 713,
   "metadata": {},
   "outputs": [
    {
     "name": "stdout",
     "output_type": "stream",
     "text": [
      "Number of categories: 337\n"
     ]
    }
   ],
   "source": [
    "# construct final categories list\n",
    "# do this by not including categories that appear in the ingredients list\n",
    "categories = [cat for cat in categories_initial if cat not in ingredients]\n",
    "#print(categories)\n",
    "print('Number of categories:', len(categories))"
   ]
  },
  {
   "cell_type": "code",
   "execution_count": 714,
   "metadata": {},
   "outputs": [
    {
     "data": {
      "text/plain": [
       "(23762, 318)"
      ]
     },
     "execution_count": 714,
     "metadata": {},
     "output_type": "execute_result"
    }
   ],
   "source": [
    "# from our csv dataframe, remove columns (other than title and nutritional info) that don't \n",
    "#    fall in the categories list\n",
    "\n",
    "cols1 = ['Title', 'Rating', 'Rating Group', 'Date Time', 'Calories', 'Protein', 'Fat', 'Sodium']\n",
    "for cat in categories:\n",
    "    # getting an error for categories that aren't in df_initial.columns\n",
    "    if cat in df_initial.columns:\n",
    "        cols1.append(cat)\n",
    "\n",
    "# create dataframe with only desired columns\n",
    "df_narrowed = df_initial[cols1]\n",
    "df_narrowed.shape\n",
    "#df_narrowed.columns"
   ]
  },
  {
   "cell_type": "markdown",
   "metadata": {},
   "source": [
    "## Remove Low Frequency Columns\n",
    "\n",
    "If some of our categories barely have any recipes falling under them, we should probably exclude them from our analysis."
   ]
  },
  {
   "cell_type": "code",
   "execution_count": 715,
   "metadata": {},
   "outputs": [
    {
     "name": "stdout",
     "output_type": "stream",
     "text": [
      "Number of columns with 2 or fewer rows that contain the category: 62\n"
     ]
    }
   ],
   "source": [
    "# COLUMNS\n",
    "\n",
    "# exclude columns with 2 or fewer rows that contain them by identifying them in a dictionary\n",
    "\n",
    "col_to_remove = dict()\n",
    "for col in df_narrowed.loc[:,'22-Minute Meals':]:\n",
    "    if sum(df_narrowed[col]) <= 2:\n",
    "        col_to_remove[col] = sum(df_narrowed[col])\n",
    "\n",
    "print('Number of columns with 2 or fewer rows that contain the category:', len(col_to_remove))"
   ]
  },
  {
   "cell_type": "code",
   "execution_count": 716,
   "metadata": {},
   "outputs": [
    {
     "data": {
      "text/plain": [
       "(23762, 256)"
      ]
     },
     "execution_count": 716,
     "metadata": {},
     "output_type": "execute_result"
    }
   ],
   "source": [
    "# reconstruct list of column names\n",
    "cols2 = ['Title', 'Rating', 'Rating Group', 'Date Time', 'Calories', 'Protein', 'Fat', 'Sodium']\n",
    "for col in df_narrowed.loc[:,'22-Minute Meals':].columns:\n",
    "    if col not in col_to_remove:\n",
    "        cols2.append(col)\n",
    "\n",
    "# create dataframe with only desired columns\n",
    "df_narrowed2 = df_narrowed[cols2]\n",
    "df_narrowed2.shape\n",
    "#df_narrowed2.columns"
   ]
  },
  {
   "cell_type": "code",
   "execution_count": 717,
   "metadata": {
    "collapsed": true
   },
   "outputs": [],
   "source": [
    "# ROWS\n",
    "\n",
    "# exclude rows that don't appear in 1 or fewer categories by identifying them in a dictionary\n",
    "\n",
    "#rows_to_remove = dict()\n",
    "#for index, row in df_narrowed.loc[:,'22-Minute Meals':].iterrows():\n",
    "#    col_sum = sum(row)\n",
    "#    if col_sum <= 1:\n",
    "#        rows_to_remove[index] = col_sum\n",
    "        \n",
    "#print('Number of rows with 1 or fewer categories representing them:', len(rows_to_remove))"
   ]
  },
  {
   "cell_type": "code",
   "execution_count": 718,
   "metadata": {
    "collapsed": true
   },
   "outputs": [],
   "source": [
    "# SHOULD I REMOVE ROWS?"
   ]
  },
  {
   "cell_type": "code",
   "execution_count": null,
   "metadata": {
    "collapsed": true
   },
   "outputs": [],
   "source": []
  },
  {
   "cell_type": "markdown",
   "metadata": {},
   "source": [
    "## Export CSV Files\n",
    "\n",
    "In addition to exporting the cleaned dataframe to use for the clustering, I still want to include the ingredients data for some initial exploratory data analysis. I will export three different csv files:\n",
    "\n",
    "* Recipes_Categories: Title, nutritional info, categories\n",
    "* Recipes_Ingredients: Title, nutritional info, ingredients\n",
    "* Recipes_Full: Title, nutritional info, categories, and ingredients"
   ]
  },
  {
   "cell_type": "code",
   "execution_count": 719,
   "metadata": {
    "collapsed": true
   },
   "outputs": [],
   "source": [
    "# Recipes_Categories\n",
    "\n",
    "# reassign for future ease of use in final code\n",
    "df_cats = df_narrowed2\n",
    "\n",
    "# we already created this dataframe (df_narrowed2) so just need to export\n",
    "df_cats.to_csv('Recipes_Categories.csv')"
   ]
  },
  {
   "cell_type": "code",
   "execution_count": 720,
   "metadata": {
    "collapsed": true
   },
   "outputs": [],
   "source": [
    "# Recipes_Ingredients\n",
    "\n",
    "# initiate lists of column names\n",
    "ingr_cols = ['Title', 'Rating', 'Rating Group', 'Date Time', 'Calories', 'Protein', 'Fat', 'Sodium']\n",
    "\n",
    "# add ingredients to ingr_cols list\n",
    "for ingr in ingredients:\n",
    "    if ingr in df_initial.columns:\n",
    "        ingr_cols.append(ingr)\n",
    "\n",
    "# create dataframe with only desired columns\n",
    "df_ingr = df_initial[ingr_cols]\n",
    "\n",
    "# export to csv\n",
    "df_ingr.to_csv('Recipes_Ingredients.csv')"
   ]
  },
  {
   "cell_type": "code",
   "execution_count": 721,
   "metadata": {
    "collapsed": true
   },
   "outputs": [],
   "source": [
    "# Recipes_Full\n",
    "\n",
    "# build from the df_narrowed2 but add ingredients\n",
    "cols_full = cols2 + ingr_cols[6:]\n",
    "\n",
    "# create dataframe with only desired columns\n",
    "df_full = df_initial[cols_full]\n",
    "\n",
    "# export to csv\n",
    "df_full.to_csv('Recipes_Full.csv')"
   ]
  },
  {
   "cell_type": "code",
   "execution_count": null,
   "metadata": {
    "collapsed": true
   },
   "outputs": [],
   "source": []
  },
  {
   "cell_type": "code",
   "execution_count": null,
   "metadata": {},
   "outputs": [],
   "source": []
  },
  {
   "cell_type": "code",
   "execution_count": null,
   "metadata": {
    "collapsed": true
   },
   "outputs": [],
   "source": []
  }
 ],
 "metadata": {
  "kernelspec": {
   "display_name": "Python 3",
   "language": "python",
   "name": "python3"
  },
  "language_info": {
   "codemirror_mode": {
    "name": "ipython",
    "version": 3
   },
   "file_extension": ".py",
   "mimetype": "text/x-python",
   "name": "python",
   "nbconvert_exporter": "python",
   "pygments_lexer": "ipython3",
   "version": "3.6.2"
  }
 },
 "nbformat": 4,
 "nbformat_minor": 2
}
