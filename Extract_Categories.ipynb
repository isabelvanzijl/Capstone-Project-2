{
 "cells": [
  {
   "cell_type": "markdown",
   "metadata": {},
   "source": [
    "We need to figure out which of the columns in the csv file are 'categories' and which are 'ingredients'. By extracting what values are listed in categories from the JSON file, "
   ]
  },
  {
   "cell_type": "code",
   "execution_count": 94,
   "metadata": {
    "collapsed": true
   },
   "outputs": [],
   "source": [
    "import pandas as pd"
   ]
  },
  {
   "cell_type": "code",
   "execution_count": 95,
   "metadata": {},
   "outputs": [
    {
     "data": {
      "text/html": [
       "<div>\n",
       "<style>\n",
       "    .dataframe thead tr:only-child th {\n",
       "        text-align: right;\n",
       "    }\n",
       "\n",
       "    .dataframe thead th {\n",
       "        text-align: left;\n",
       "    }\n",
       "\n",
       "    .dataframe tbody tr th {\n",
       "        vertical-align: top;\n",
       "    }\n",
       "</style>\n",
       "<table border=\"1\" class=\"dataframe\">\n",
       "  <thead>\n",
       "    <tr style=\"text-align: right;\">\n",
       "      <th></th>\n",
       "      <th>calories</th>\n",
       "      <th>categories</th>\n",
       "      <th>date</th>\n",
       "      <th>desc</th>\n",
       "      <th>directions</th>\n",
       "      <th>fat</th>\n",
       "      <th>ingredients</th>\n",
       "      <th>protein</th>\n",
       "      <th>rating</th>\n",
       "      <th>sodium</th>\n",
       "      <th>title</th>\n",
       "    </tr>\n",
       "  </thead>\n",
       "  <tbody>\n",
       "    <tr>\n",
       "      <th>0</th>\n",
       "      <td>426.0</td>\n",
       "      <td>[Sandwich, Bean, Fruit, Tomato, turkey, Vegeta...</td>\n",
       "      <td>2006-09-01 04:00:00</td>\n",
       "      <td>None</td>\n",
       "      <td>[1. Place the stock, lentils, celery, carrot, ...</td>\n",
       "      <td>7.0</td>\n",
       "      <td>[4 cups low-sodium vegetable or chicken stock,...</td>\n",
       "      <td>30.0</td>\n",
       "      <td>2.500</td>\n",
       "      <td>559.0</td>\n",
       "      <td>Lentil, Apple, and Turkey Wrap</td>\n",
       "    </tr>\n",
       "    <tr>\n",
       "      <th>1</th>\n",
       "      <td>403.0</td>\n",
       "      <td>[Food Processor, Onion, Pork, Bake, Bastille D...</td>\n",
       "      <td>2004-08-20 04:00:00</td>\n",
       "      <td>This uses the same ingredients found in boudin...</td>\n",
       "      <td>[Combine first 9 ingredients in heavy medium s...</td>\n",
       "      <td>23.0</td>\n",
       "      <td>[1 1/2 cups whipping cream, 2 medium onions, c...</td>\n",
       "      <td>18.0</td>\n",
       "      <td>4.375</td>\n",
       "      <td>1439.0</td>\n",
       "      <td>Boudin Blanc Terrine with Red Onion Confit</td>\n",
       "    </tr>\n",
       "    <tr>\n",
       "      <th>2</th>\n",
       "      <td>165.0</td>\n",
       "      <td>[Soup/Stew, Dairy, Potato, Vegetable, Fennel, ...</td>\n",
       "      <td>2004-08-20 04:00:00</td>\n",
       "      <td>None</td>\n",
       "      <td>[In a large heavy saucepan cook diced fennel a...</td>\n",
       "      <td>7.0</td>\n",
       "      <td>[1 fennel bulb (sometimes called anise), stalk...</td>\n",
       "      <td>6.0</td>\n",
       "      <td>3.750</td>\n",
       "      <td>165.0</td>\n",
       "      <td>Potato and Fennel Soup Hodge</td>\n",
       "    </tr>\n",
       "    <tr>\n",
       "      <th>3</th>\n",
       "      <td>NaN</td>\n",
       "      <td>[Fish, Olive, Tomato, Sauté, Low Fat, Low Cal,...</td>\n",
       "      <td>2009-03-27 04:00:00</td>\n",
       "      <td>The Sicilian-style tomato sauce has tons of Me...</td>\n",
       "      <td>[Heat oil in heavy large skillet over medium-h...</td>\n",
       "      <td>NaN</td>\n",
       "      <td>[2 tablespoons extra-virgin olive oil, 1 cup c...</td>\n",
       "      <td>NaN</td>\n",
       "      <td>5.000</td>\n",
       "      <td>NaN</td>\n",
       "      <td>Mahi-Mahi in Tomato Olive Sauce</td>\n",
       "    </tr>\n",
       "    <tr>\n",
       "      <th>4</th>\n",
       "      <td>547.0</td>\n",
       "      <td>[Cheese, Dairy, Pasta, Vegetable, Side, Bake, ...</td>\n",
       "      <td>2004-08-20 04:00:00</td>\n",
       "      <td>None</td>\n",
       "      <td>[Preheat oven to 350°F. Lightly grease 8x8x2-i...</td>\n",
       "      <td>32.0</td>\n",
       "      <td>[1 12-ounce package frozen spinach soufflé, th...</td>\n",
       "      <td>20.0</td>\n",
       "      <td>3.125</td>\n",
       "      <td>452.0</td>\n",
       "      <td>Spinach Noodle Casserole</td>\n",
       "    </tr>\n",
       "  </tbody>\n",
       "</table>\n",
       "</div>"
      ],
      "text/plain": [
       "   calories                                         categories  \\\n",
       "0     426.0  [Sandwich, Bean, Fruit, Tomato, turkey, Vegeta...   \n",
       "1     403.0  [Food Processor, Onion, Pork, Bake, Bastille D...   \n",
       "2     165.0  [Soup/Stew, Dairy, Potato, Vegetable, Fennel, ...   \n",
       "3       NaN  [Fish, Olive, Tomato, Sauté, Low Fat, Low Cal,...   \n",
       "4     547.0  [Cheese, Dairy, Pasta, Vegetable, Side, Bake, ...   \n",
       "\n",
       "                 date                                               desc  \\\n",
       "0 2006-09-01 04:00:00                                               None   \n",
       "1 2004-08-20 04:00:00  This uses the same ingredients found in boudin...   \n",
       "2 2004-08-20 04:00:00                                               None   \n",
       "3 2009-03-27 04:00:00  The Sicilian-style tomato sauce has tons of Me...   \n",
       "4 2004-08-20 04:00:00                                               None   \n",
       "\n",
       "                                          directions   fat  \\\n",
       "0  [1. Place the stock, lentils, celery, carrot, ...   7.0   \n",
       "1  [Combine first 9 ingredients in heavy medium s...  23.0   \n",
       "2  [In a large heavy saucepan cook diced fennel a...   7.0   \n",
       "3  [Heat oil in heavy large skillet over medium-h...   NaN   \n",
       "4  [Preheat oven to 350°F. Lightly grease 8x8x2-i...  32.0   \n",
       "\n",
       "                                         ingredients  protein  rating  sodium  \\\n",
       "0  [4 cups low-sodium vegetable or chicken stock,...     30.0   2.500   559.0   \n",
       "1  [1 1/2 cups whipping cream, 2 medium onions, c...     18.0   4.375  1439.0   \n",
       "2  [1 fennel bulb (sometimes called anise), stalk...      6.0   3.750   165.0   \n",
       "3  [2 tablespoons extra-virgin olive oil, 1 cup c...      NaN   5.000     NaN   \n",
       "4  [1 12-ounce package frozen spinach soufflé, th...     20.0   3.125   452.0   \n",
       "\n",
       "                                         title  \n",
       "0              Lentil, Apple, and Turkey Wrap   \n",
       "1  Boudin Blanc Terrine with Red Onion Confit   \n",
       "2                Potato and Fennel Soup Hodge   \n",
       "3             Mahi-Mahi in Tomato Olive Sauce   \n",
       "4                    Spinach Noodle Casserole   "
      ]
     },
     "execution_count": 95,
     "metadata": {},
     "output_type": "execute_result"
    }
   ],
   "source": [
    "# read json file in as a dataframe\n",
    "rec_df = pd.read_json('full_format_recipes.json', orient='columns')\n",
    "rec_df.head()"
   ]
  },
  {
   "cell_type": "code",
   "execution_count": 96,
   "metadata": {},
   "outputs": [
    {
     "name": "stdout",
     "output_type": "stream",
     "text": [
      "First 40 initial categories: ['#CAKEWEEK', '#WasteLess', '22-Minute Meals', '3-Ingredient Recipes', '30 Days of Groceries', 'Advance Prep Required', 'Alabama', 'Alaska', 'Alcoholic', 'Almond', 'Amaretto', 'Anchovy', 'Anise', 'Anniversary', 'Anthony Bourdain', 'Aperitif', 'Appetizer', 'Apple', 'Apple Juice', 'Apricot', 'Arizona', 'Artichoke', 'Arugula', 'Asian Pear', 'Asparagus', 'Aspen', 'Atlanta', 'Australia', 'Avocado', 'Back to School', 'Backyard BBQ', 'Bacon', 'Bake', 'Banana', 'Barley', 'Basil', 'Bass', 'Bastille Day', 'Bean', 'Beef']\n",
      "Number of initial categories: 674\n"
     ]
    }
   ],
   "source": [
    "# extract all categories by appending them to the empty list categories_initial\n",
    "categories_initial = []\n",
    "for l in rec_df.categories:\n",
    "    #print(str(type(l)) +\" \" + str(l))\n",
    "    if type(l) == list:\n",
    "        for cat in l:\n",
    "            if cat not in categories_initial:\n",
    "                categories_initial.append(cat)\n",
    "                \n",
    "# format categories\n",
    "categories_initial = [cat.title() if cat.lower() == cat else cat for cat in categories_initial]                \n",
    "\n",
    "# sort categories list and check it\n",
    "categories_initial = sorted(categories_initial)\n",
    "print('First 40 initial categories:', categories_initial[:40])\n",
    "print('Number of initial categories:', len(categories_initial))"
   ]
  },
  {
   "cell_type": "code",
   "execution_count": 110,
   "metadata": {
    "scrolled": true
   },
   "outputs": [
    {
     "name": "stdout",
     "output_type": "stream",
     "text": [
      "Number of ingredients that are categories: 398\n"
     ]
    }
   ],
   "source": [
    "# there are too many categories, mostly due to the fact that ingredients are included as categories\n",
    "# identify which categories are ingredients by searching for the category substring in the ingredients\n",
    "#    list for that recipe\n",
    "\n",
    "# extract all categories that are ingredients by appending them to the empty list ingredients_initial\n",
    "ingredients_initial = []\n",
    "\n",
    "for i, row in rec_df.iterrows():\n",
    "    #print(str(type(l)) +\" \" + str(l))\n",
    "    temp_cats = row.categories\n",
    "    temp_ingr = row.ingredients\n",
    "    if type(temp_cats) == list and type(temp_ingr) == list:\n",
    "        for cat in temp_cats:\n",
    "            cat = cat.lower()\n",
    "            cat_title = cat.title()\n",
    "            for ingr in temp_ingr:\n",
    "                ingr = ingr.lower()\n",
    "                if ingr.find(cat) != -1 and cat_title not in ingredients_initial:\n",
    "                    ingredients_initial.append(cat_title)\n",
    "\n",
    "ingredients_initial = sorted(ingredients_initial)\n",
    "# print('Ingredients that are categories:', ingredients_initial)\n",
    "print('Number of ingredients that are categories:', len(ingredients_initial))"
   ]
  },
  {
   "cell_type": "code",
   "execution_count": 111,
   "metadata": {},
   "outputs": [
    {
     "name": "stdout",
     "output_type": "stream",
     "text": [
      "Number of ingredients that are categories: 340\n"
     ]
    }
   ],
   "source": [
    "# some ingredients are indeed categories and not ingredients\n",
    "# the initial ingredients list is easy to scan though, so remove the few categories that exist in it\n",
    "# note: full food items (like Salad and Sandwich) are not ingredients from my perspective\n",
    "\n",
    "not_ingredients = ['Bake', 'Blender', 'Boil', 'Bon Appétit', 'Braise', 'Breakfast', 'Broil', 'California', \n",
    "                   'Cocktail', 'Deep-Fry', 'Dessert', 'Dinner', 'Drink', 'Easter', 'Fall', 'Food Processor', \n",
    "                   'Fry', 'Game', 'Grill', 'Healthy', 'Ice Cream Machine', 'Juicer', 'Kosher', 'Mandoline', \n",
    "                   'Marinate', 'Microwave', 'Mixer', 'Mortar And Pestle', 'New York', 'Passover', 'Pasta Maker', \n",
    "                   'Pastry', 'Pie', 'Pizza', 'Poach', 'Pressure Cooker', 'Ramekin', 'Raw', 'Salad', 'Sandwich', \n",
    "                   'Sauté', 'Seafood', 'Side', 'Simmer', 'Skewer', 'Slow Cooker', 'Smoker', 'Snack', 'Spring',\n",
    "                   'Steam', 'Stew', 'Stir-Fry', 'Summer', 'Tart', 'Thanksgiving', 'Vegan', 'Vegetarian',\n",
    "                   'Winter']\n",
    "\n",
    "# remove items from not_ingredients from the ingredients_initial list\n",
    "ingredients = [ingr for ingr in ingredients_initial if ingr not in not_ingredients]\n",
    "\n",
    "# check lengtih of ingredients list to make sure it's less than 398\n",
    "print('Number of ingredients that are categories:', len(ingredients))"
   ]
  },
  {
   "cell_type": "code",
   "execution_count": 113,
   "metadata": {},
   "outputs": [
    {
     "name": "stdout",
     "output_type": "stream",
     "text": [
      "['#CAKEWEEK', '#WasteLess', '22-Minute Meals', '3-Ingredient Recipes', '30 Days of Groceries', 'Advance Prep Required', 'Alabama', 'Alaska', 'Alcoholic', 'Anniversary', 'Anthony Bourdain', 'Aperitif', 'Appetizer', 'Arizona', 'Aspen', 'Atlanta', 'Australia', 'Back to School', 'Backyard BBQ', 'Bake', 'Bastille Day', 'Beverly Hills', 'Birthday', 'Biscuit', 'Blender', 'Boil', 'Bon Appétit', 'Bon App��tit', 'Boston', 'Braise', 'Breakfast', 'Broil', 'Brooklyn', 'Brownie', 'Brunch', 'Buffet', 'Bulgaria', 'Burrito', 'Butterscotch/Caramel', 'California', 'Cambridge', 'Camping', 'Canada', 'Casserole/Gratin', 'Caviar', 'Chicago', 'Christmas', 'Christmas Eve', 'Cinco de Mayo', 'Cobbler/Crumble', 'Cocktail', 'Cocktail Party', 'Coffee Grinder', 'Cognac/Armagnac', 'Colorado', 'Columbus', 'Condiment', 'Condiment/Spread', 'Connecticut', 'Cook Like a Diner', 'Cookbook Critic', 'Cookbooks', 'Cookie', 'Costa Mesa', 'Créme de Cacao', 'Crêpe', 'Cr��me de Cacao', 'Cuba', 'Cupcake', 'Custard', 'Dairy', 'Dairy Free', 'Dallas', 'Deep-Fry', 'Denver', 'Dessert', 'Digestif', 'Dinner', 'Dip', 'Diwali', 'Dominican Republic', 'Dorie Greenspan', 'Double Boiler', 'Drink', 'Drinks', 'Easter', 'Eau de Vie', 'Edible Gift', 'Egg Nog', 'Egypt', 'Emeril Lagasse', 'Engagement Party', 'England', 'Entertaining', 'Epi + USHG', 'Epi Loves the Microwave', 'Fall', 'Family Reunion', 'Fat Free', \"Father's Day\", 'Flaming Hot Summer', 'Flat Bread', 'Florida', 'Food Processor', 'Fortified Wine', 'Fourth of July', 'France', 'Frankenrecipe', 'Freeze/Chill', 'Freezer Food', 'Friendsgiving', 'Frittata', 'Fritter', 'Frozen Dessert', 'Fry', 'Game', 'Georgia', 'Germany', 'Graduation', 'Granola', 'Green Onion/Scallion', 'Grill', 'Grill/Barbecue', 'Guam', 'Haiti', 'Halloween', 'Hanukkah', 'HarperCollins', 'Hawaii', 'Healdsburg', 'Healthy', 'High Fiber', 'Hollywood', 'Hominy/Cornmeal/Masa', \"Hors D'Oeuvre\", 'Hot Drink', 'House & Garden', 'House Cocktail', 'Houston', 'Hummus', 'Ice Cream Machine', 'Iced Coffee', 'Iced Tea', 'Idaho', 'Illinois', 'Indiana', 'Iowa', 'Ireland', 'Israel', 'Italy', 'Jam or Jelly', 'Jamaica', 'Japan', 'Juicer', 'Kansas', 'Kansas City', 'Kentucky', 'Kentucky Derby', 'Kid-Friendly', 'Kidney Friendly', 'Kitchen Olympics', 'Kosher', 'Kosher for Passover', 'Kwanzaa', 'Labor Day', 'Lancaster', 'Las Vegas', 'Leftovers', 'London', 'Long Beach', 'Los Angeles', 'Louisiana', 'Louisville', 'Low Cal', 'Low Carb', 'Low Cholesterol', 'Low Fat', 'Low Sodium', 'Low Sugar', 'Low/No Sugar', 'Lunar New Year', 'Lunch', 'Macaroni and Cheese', 'Maine', 'Mandoline', 'Mardi Gras', 'Marinade', 'Marinate', 'Marscarpone', 'Martini', 'Maryland', 'Massachusetts', 'Meatloaf', 'Mexico', 'Miami', 'Michigan', 'Microwave', 'Milk/Cream', 'Minneapolis', 'Minnesota', 'Mississippi', 'Missouri', 'Mixer', 'Mortar and Pestle', \"Mother's Day\", 'Nancy Silverton', 'Nebraska', 'New Hampshire', 'New Jersey', 'New Mexico', 'New Orleans', \"New Year's Day\", \"New Year's Eve\", 'New York', 'No Meat, No Problem', 'No Sugar Added', 'No-Cook', 'Non-Alcoholic', 'North Carolina', 'Ohio', 'Oklahoma', 'Oktoberfest', 'Omelet', 'One-Pot Meal', 'Oregon', 'Oscars', 'Pacific Palisades', 'Paleo', 'Pan-Fry', 'Pancake', 'Parade', 'Paris', 'Pasadena', 'Passover', 'Pasta Maker', 'Pastry', 'Peanut Free', 'Pennsylvania', 'Persian New Year', 'Peru', 'Pescatarian', 'Philippines', 'Phyllo/Puff Pastry Dough', 'Picnic', 'Pie', 'Pittsburgh', 'Pizza', 'Poach', 'Poker/Game Night', 'Portland', 'Pot Pie', 'Potato Salad', 'Potluck', 'Pressure Cooker', 'Providence', 'Purim', 'Quiche', 'Quick & Easy', 'Quick and Healthy', 'Rack of Lamb', 'Ramadan', 'Ramekin', 'Raw', 'Rhode Island', 'Rosh Hashanah/Yom Kippur', 'Rub', 'Salad', 'Salad Dressing', 'Salsa', 'San Francisco', 'Sandwich', 'Sandwich Theory', 'Sangria', 'Santa Monica', 'Sauté', 'Seafood', 'Seattle', 'Self', 'Shavuot', 'Shower', 'Side', 'Simmer', 'Skewer', 'Slow Cooker', 'Smoker', 'Smoothie', 'Snack', 'Snack Week', 'Soufflé/Meringue', 'Soup/Stew', 'South Carolina', 'Soy Free', 'Spain', 'Spirit', 'Spring', 'Spritzer', 'St. Louis', \"St. Patrick's Day\", 'Steam', 'Stew', 'Stir-Fry', 'Stock', 'Stuffing/Dressing', 'Sugar Conscious', 'Sukkot', 'Summer', 'Super Bowl', 'Suzanne Goin', 'Sweet Potato/Yam', 'Switzerland', 'Taco', 'Tailgating', 'Tart', 'Tennessee', 'Tested & Improved', 'Texas', 'Thanksgiving', 'Tree Nut', 'Tree Nut Free', 'Utah', \"Valentine's Day\", 'Vegan', 'Vegetarian', 'Vermont', 'Virginia', 'Waffle', 'Washington', 'Washington, D.C.', 'Weelicious', 'West Virginia', 'Westwood', 'Wheat/Gluten-Free', 'Windsor', 'Winter', 'Wisconsin', 'Yonkers']\n",
      "336\n"
     ]
    }
   ],
   "source": [
    "\n",
    "categories = [cat for cat in categories_initial if cat not in ingredients]\n",
    "print(categories)\n",
    "print(len(categories))"
   ]
  },
  {
   "cell_type": "code",
   "execution_count": null,
   "metadata": {
    "collapsed": true
   },
   "outputs": [],
   "source": [
    "# this list is adequate for now"
   ]
  },
  {
   "cell_type": "code",
   "execution_count": null,
   "metadata": {
    "collapsed": true
   },
   "outputs": [],
   "source": []
  }
 ],
 "metadata": {
  "kernelspec": {
   "display_name": "Python 3",
   "language": "python",
   "name": "python3"
  },
  "language_info": {
   "codemirror_mode": {
    "name": "ipython",
    "version": 3
   },
   "file_extension": ".py",
   "mimetype": "text/x-python",
   "name": "python",
   "nbconvert_exporter": "python",
   "pygments_lexer": "ipython3",
   "version": "3.6.2"
  }
 },
 "nbformat": 4,
 "nbformat_minor": 2
}
